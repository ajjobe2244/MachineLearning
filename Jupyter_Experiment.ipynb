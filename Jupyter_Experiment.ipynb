{
  "nbformat": 4,
  "nbformat_minor": 0,
  "metadata": {
    "colab": {
      "name": "Jupyter Experiment",
      "provenance": []
    },
    "kernelspec": {
      "name": "python3",
      "display_name": "Python 3"
    }
  },
  "cells": [
    {
      "cell_type": "code",
      "metadata": {
        "id": "9EZ_V6m9KFf9",
        "colab_type": "code",
        "colab": {}
      },
      "source": [
        ""
      ],
      "execution_count": null,
      "outputs": []
    },
    {
      "cell_type": "code",
      "metadata": {
        "id": "2U1CuCBuKQTX",
        "colab_type": "code",
        "colab": {
          "base_uri": "https://localhost:8080/",
          "height": 238
        },
        "outputId": "d440a8e7-76c0-4503-e62b-289c9d3a1cfc"
      },
      "source": [
        "%time\n",
        "print('Table of squares')\n",
        "for i in range(10):\n",
        "  print(f'{i} times {i} = {i*i}')"
      ],
      "execution_count": null,
      "outputs": [
        {
          "output_type": "stream",
          "text": [
            "CPU times: user 3 µs, sys: 0 ns, total: 3 µs\n",
            "Wall time: 7.39 µs\n",
            "Table of squares\n",
            "0 times 0 = 0\n",
            "1 times 1 = 1\n",
            "2 times 2 = 4\n",
            "3 times 3 = 9\n",
            "4 times 4 = 16\n",
            "5 times 5 = 25\n",
            "6 times 6 = 36\n",
            "7 times 7 = 49\n",
            "8 times 8 = 64\n",
            "9 times 9 = 81\n"
          ],
          "name": "stdout"
        }
      ]
    }
  ]
}